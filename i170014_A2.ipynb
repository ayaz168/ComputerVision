{
  "nbformat": 4,
  "nbformat_minor": 0,
  "metadata": {
    "colab": {
      "name": "i170014_A2.ipynb",
      "provenance": [],
      "collapsed_sections": []
    },
    "kernelspec": {
      "display_name": "Python 3",
      "language": "python",
      "name": "python3"
    },
    "language_info": {
      "codemirror_mode": {
        "name": "ipython",
        "version": 3
      },
      "file_extension": ".py",
      "mimetype": "text/x-python",
      "name": "python",
      "nbconvert_exporter": "python",
      "pygments_lexer": "ipython3",
      "version": "3.7.6"
    }
  },
  "cells": [
    {
      "cell_type": "code",
      "metadata": {
        "id": "E4F1AnE2iPkI"
      },
      "source": [
        "import numpy as np\n",
        "import matplotlib.pyplot as plt\n",
        "from tqdm import tqdm\n",
        "import torch\n",
        "import torch.nn as nn\n",
        "from torch.autograd import Variable\n",
        "import torch.nn.functional as F\n",
        "import torchvision\n",
        "import torchvision.transforms as transforms\n",
        "from torch.utils.data import Dataset, DataLoader"
      ],
      "execution_count": null,
      "outputs": []
    },
    {
      "cell_type": "code",
      "metadata": {
        "id": "xBdTwTg5iPkO"
      },
      "source": [
        "trainingSet = torchvision.datasets.FashionMNIST(\"./data\", download=True, transform=\n",
        "                                                transforms.Compose([transforms.ColorJitter(brightness=0.2, contrast=0.3, saturation=0.4, hue=0.5),\n",
        "                                                                    transforms.RandomHorizontalFlip(),transforms.ToTensor()]))\n",
        "testingSet = torchvision.datasets.FashionMNIST(\"./data\", download=True, train=False, transform=\n",
        "                                               transforms.Compose([transforms.ToTensor()]))\n",
        "trainSetX = torch.utils.data.DataLoader(trainingSet, \n",
        "                                           batch_size=100)\n",
        "testSetX = torch.utils.data.DataLoader(testingSet,\n",
        "                                          batch_size=100)"
      ],
      "execution_count": null,
      "outputs": []
    },
    {
      "cell_type": "code",
      "metadata": {
        "id": "_28axUDYiPkT",
        "outputId": "1a9cca6e-e636-4b03-a118-df20fd70ee2f",
        "colab": {
          "base_uri": "https://localhost:8080/",
          "height": 299
        }
      },
      "source": [
        "a = next(iter(trainSetX))\n",
        "a[0].size()\n",
        "print(\"Length of Training Set : \",len(trainingSet))\n",
        "image, label = next(iter(trainingSet))\n",
        "plt.imshow(image.squeeze(), cmap=\"gray\")\n",
        "print(label)"
      ],
      "execution_count": null,
      "outputs": [
        {
          "output_type": "stream",
          "text": [
            "Length of Training Set :  60000\n",
            "9\n"
          ],
          "name": "stdout"
        },
        {
          "output_type": "display_data",
          "data": {
            "image/png": "[encoded data removed]",
            "text/plain": [
              "<Figure size 432x288 with 1 Axes>"
            ]
          },
          "metadata": {
            "tags": []
          }
        }
      ]
    },
    {
      "cell_type": "code",
      "metadata": {
        "id": "NCvJ0ivLiPkZ",
        "outputId": "4a75c37d-f4df-4b7b-bd6d-0c8a36017439",
        "colab": {
          "base_uri": "https://localhost:8080/",
          "height": 425
        }
      },
      "source": [
        "class F_MNIST_NN2(nn.Module):\n",
        "    \n",
        "    def __init__(self):\n",
        "        super(F_MNIST_NN2, self).__init__()\n",
        "        \n",
        "        self.layer1 = nn.Conv2d(in_channels=1, out_channels=64, kernel_size=3, padding=1,stride=1)\n",
        "        self.layer2=torch.nn.MaxPool2d(kernel_size=2, stride=2,padding=1)\n",
        "        self.layer3 = nn.Conv2d(in_channels=64, out_channels=128, kernel_size=3, padding=1,stride=1)\n",
        "        self.layer4=torch.nn.MaxPool2d(kernel_size=2, stride=2,padding=1)\n",
        "        self.layer5 = nn.Sequential(nn.Conv2d(in_channels=128, out_channels=256, kernel_size=3, padding=1,stride=2),\n",
        "                                    nn.BatchNorm2d(256))\n",
        "        self.layer6 = nn.Sequential(nn.Conv2d(in_channels=256, out_channels=512, kernel_size=3, padding=1,stride=2),\n",
        "                                    nn.BatchNorm2d(512))\n",
        "        self.layer7=torch.nn.MaxPool2d(kernel_size=2, stride=1,padding=1)\n",
        "        self.layer8 = nn.Conv2d(in_channels=512, out_channels=1024, kernel_size=3, padding=1,stride=2)\n",
        "        self.layer9=torch.nn.MaxPool2d(kernel_size=2, stride=2,padding=0)\n",
        "        self.fc1 = nn.Linear(in_features=1024, out_features=512)\n",
        "        self.drop = nn.Dropout2d(0.25)\n",
        "        self.fc2 = nn.Linear(in_features=512, out_features=256)\n",
        "        self.fc3 = nn.Sequential(\n",
        "            nn.Linear(in_features=256, out_features=10),\n",
        "            nn.BatchNorm1d(10)\n",
        "        )\n",
        "        #self.fc3 = nn.Linear(in_features=1024, out_features=10)\n",
        "        \n",
        "    def forward(self, x):\n",
        "        out = F.relu(self.layer1(x))\n",
        "        out = F.relu(self.layer2(out))\n",
        "        out = F.relu(self.layer3(out))\n",
        "        out = F.relu(self.layer4(out))\n",
        "        out = F.relu(self.layer5(out))\n",
        "        out = F.relu(self.layer6(out))\n",
        "        out = F.relu(self.layer7(out))\n",
        "        out = F.relu(self.layer8(out))\n",
        "        out = F.relu(self.layer9(out))\n",
        "        out=out.view(out.shape[0],-1)\n",
        "        out = F.relu(self.fc1(out))\n",
        "        out = F.relu(self.fc2(out))\n",
        "        out = self.fc3(out)\n",
        "        return F.softmax(out,dim=1)\n",
        "model2 = F_MNIST_NN2()\n",
        "error = nn.CrossEntropyLoss()\n",
        "learning_rate = 0.009\n",
        "optimizer = torch.optim.Adam(model2.parameters(), lr=learning_rate)\n",
        "print(model2)"
      ],
      "execution_count": null,
      "outputs": [
        {
          "output_type": "stream",
          "text": [
            "F_MNIST_NN2(\n",
            "  (layer1): Conv2d(1, 64, kernel_size=(3, 3), stride=(1, 1), padding=(1, 1))\n",
            "  (layer2): MaxPool2d(kernel_size=2, stride=2, padding=1, dilation=1, ceil_mode=False)\n",
            "  (layer3): Conv2d(64, 128, kernel_size=(3, 3), stride=(1, 1), padding=(1, 1))\n",
            "  (layer4): MaxPool2d(kernel_size=2, stride=2, padding=1, dilation=1, ceil_mode=False)\n",
            "  (layer5): Sequential(\n",
            "    (0): Conv2d(128, 256, kernel_size=(3, 3), stride=(2, 2), padding=(1, 1))\n",
            "    (1): BatchNorm2d(256, eps=1e-05, momentum=0.1, affine=True, track_running_stats=True)\n",
            "  )\n",
            "  (layer6): Sequential(\n",
            "    (0): Conv2d(256, 512, kernel_size=(3, 3), stride=(2, 2), padding=(1, 1))\n",
            "    (1): BatchNorm2d(512, eps=1e-05, momentum=0.1, affine=True, track_running_stats=True)\n",
            "  )\n",
            "  (layer7): MaxPool2d(kernel_size=2, stride=1, padding=1, dilation=1, ceil_mode=False)\n",
            "  (layer8): Conv2d(512, 1024, kernel_size=(3, 3), stride=(2, 2), padding=(1, 1))\n",
            "  (layer9): MaxPool2d(kernel_size=2, stride=2, padding=0, dilation=1, ceil_mode=False)\n",
            "  (fc1): Linear(in_features=1024, out_features=512, bias=True)\n",
            "  (drop): Dropout2d(p=0.25, inplace=False)\n",
            "  (fc2): Linear(in_features=512, out_features=256, bias=True)\n",
            "  (fc3): Sequential(\n",
            "    (0): Linear(in_features=256, out_features=10, bias=True)\n",
            "    (1): BatchNorm1d(10, eps=1e-05, momentum=0.1, affine=True, track_running_stats=True)\n",
            "  )\n",
            ")\n"
          ],
          "name": "stdout"
        }
      ]
    },
    {
      "cell_type": "code",
      "metadata": {
        "id": "XKqbKSq5iPke",
        "outputId": "ed653c03-083e-49de-aa0f-b793df75e457",
        "colab": {
          "background_save": true,
          "base_uri": "https://localhost:8080/",
          "height": 204
        }
      },
      "source": [
        "BATCH_SIZE=100\n",
        "EPOCHS=10\n",
        "counter=0\n",
        "for rpochs in range(EPOCHS):\n",
        "    for inputs, tags in tqdm(trainSetX):\n",
        "        train = Variable(inputs.view(100, 1, 28, 28))\n",
        "        tags = Variable(tags)\n",
        "        outputs = model2(train)\n",
        "        loss = error(outputs, tags)\n",
        "        optimizer.zero_grad()\n",
        "        #Propagating the error backward\n",
        "        loss.backward()\n",
        "        # Optimizing the parameters\n",
        "        optimizer.step()\n",
        "        counter+=1\n",
        "        if counter%600==0:\n",
        "            correct=0\n",
        "            total=0\n",
        "            for images, labels in testSetX:\n",
        "                test = Variable(images.view(100, 1, 28, 28))\n",
        "                outputs = model2(test)\n",
        "                predictions = torch.max(outputs, 1)[1]\n",
        "                correct += (predictions == labels).sum()\n",
        "                total += len(labels)\n",
        "            accuracy = correct * 100 // total\n",
        "            print(\"Iteration: {}, Loss: {}, Accuracy: {}%\".format(counter, loss.data, accuracy))"
      ],
      "execution_count": null,
      "outputs": [
        {
          "output_type": "stream",
          "text": [
            "100%|██████████| 600/600 [12:51<00:00,  1.29s/it]\n",
            "  0%|          | 0/600 [00:00<?, ?it/s]"
          ],
          "name": "stderr"
        },
        {
          "output_type": "stream",
          "text": [
            "Iteration: 600, Loss: 1.573667287826538, Accuracy: 85%\n"
          ],
          "name": "stdout"
        },
        {
          "output_type": "stream",
          "text": [
            "100%|██████████| 600/600 [13:29<00:00,  1.35s/it]\n",
            "  0%|          | 0/600 [00:00<?, ?it/s]"
          ],
          "name": "stderr"
        },
        {
          "output_type": "stream",
          "text": [
            "Iteration: 1200, Loss: 1.5566097497940063, Accuracy: 86%\n"
          ],
          "name": "stdout"
        },
        {
          "output_type": "stream",
          "text": [
            "100%|██████████| 600/600 [13:31<00:00,  1.35s/it]\n",
            "  0%|          | 0/600 [00:00<?, ?it/s]"
          ],
          "name": "stderr"
        },
        {
          "output_type": "stream",
          "text": [
            "Iteration: 1800, Loss: 1.5711146593093872, Accuracy: 87%\n"
          ],
          "name": "stdout"
        },
        {
          "output_type": "stream",
          "text": [
            "100%|██████████| 600/600 [13:22<00:00,  1.34s/it]\n",
            "  0%|          | 0/600 [00:00<?, ?it/s]"
          ],
          "name": "stderr"
        },
        {
          "output_type": "stream",
          "text": [
            "Iteration: 2400, Loss: 1.54717218875885, Accuracy: 88%\n"
          ],
          "name": "stdout"
        },
        {
          "output_type": "stream",
          "text": [
            "100%|██████████| 600/600 [13:25<00:00,  1.34s/it]\n",
            "  0%|          | 0/600 [00:00<?, ?it/s]"
          ],
          "name": "stderr"
        },
        {
          "output_type": "stream",
          "text": [
            "Iteration: 3000, Loss: 1.5722832679748535, Accuracy: 88%\n"
          ],
          "name": "stdout"
        },
        {
          "output_type": "stream",
          "text": [
            "100%|██████████| 600/600 [13:44<00:00,  1.37s/it]\n",
            "  0%|          | 0/600 [00:00<?, ?it/s]"
          ],
          "name": "stderr"
        },
        {
          "output_type": "stream",
          "text": [
            "Iteration: 3600, Loss: 1.5386123657226562, Accuracy: 88%\n"
          ],
          "name": "stdout"
        },
        {
          "output_type": "stream",
          "text": [
            "100%|██████████| 600/600 [13:21<00:00,  1.34s/it]\n",
            "  0%|          | 0/600 [00:00<?, ?it/s]"
          ],
          "name": "stderr"
        },
        {
          "output_type": "stream",
          "text": [
            "Iteration: 4200, Loss: 1.5293775796890259, Accuracy: 89%\n"
          ],
          "name": "stdout"
        },
        {
          "output_type": "stream",
          "text": [
            "100%|██████████| 600/600 [13:18<00:00,  1.33s/it]\n",
            "  0%|          | 0/600 [00:00<?, ?it/s]"
          ],
          "name": "stderr"
        },
        {
          "output_type": "stream",
          "text": [
            "Iteration: 4800, Loss: 1.5454964637756348, Accuracy: 89%\n"
          ],
          "name": "stdout"
        },
        {
          "output_type": "stream",
          "text": [
            "100%|██████████| 600/600 [13:26<00:00,  1.34s/it]\n",
            "  0%|          | 0/600 [00:00<?, ?it/s]"
          ],
          "name": "stderr"
        },
        {
          "output_type": "stream",
          "text": [
            "Iteration: 5400, Loss: 1.565080165863037, Accuracy: 89%\n"
          ],
          "name": "stdout"
        },
        {
          "output_type": "stream",
          "text": [
            "100%|██████████| 600/600 [13:37<00:00,  1.36s/it]"
          ],
          "name": "stderr"
        },
        {
          "output_type": "stream",
          "text": [
            "Iteration: 6000, Loss: 1.543603777885437, Accuracy: 90%\n"
          ],
          "name": "stdout"
        },
        {
          "output_type": "stream",
          "text": [
            "\n"
          ],
          "name": "stderr"
        }
      ]
    }
  ]
}